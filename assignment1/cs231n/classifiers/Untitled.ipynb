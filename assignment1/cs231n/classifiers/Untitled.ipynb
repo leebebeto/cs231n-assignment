{
 "cells": [
  {
   "cell_type": "code",
   "execution_count": 4,
   "metadata": {},
   "outputs": [
    {
     "name": "stdout",
     "output_type": "stream",
     "text": [
      "[2 3 1 0]\n",
      "0\n"
     ]
    }
   ],
   "source": [
    "import numpy as np\n",
    "a = np.array([42, 38, 12, 25])\n",
    "/*j = np.argsort(a)\n",
    "print(j)\n",
    "*/\n",
    "print(j[np.argmin(j)])"
   ]
  }
 ],
 "metadata": {
  "kernelspec": {
   "display_name": "Python 3",
   "language": "python",
   "name": "python3"
  }
 },
 "nbformat": 4,
 "nbformat_minor": 2
}
